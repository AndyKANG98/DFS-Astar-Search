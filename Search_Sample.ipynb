{
 "cells": [
  {
   "cell_type": "code",
   "execution_count": 1,
   "metadata": {},
   "outputs": [],
   "source": [
    "import copy\n",
    "from time import time\n",
    "from heapq import heappop, heappush"
   ]
  },
  {
   "cell_type": "markdown",
   "metadata": {},
   "source": [
    "## Define State as \"Node\""
   ]
  },
  {
   "cell_type": "code",
   "execution_count": 2,
   "metadata": {},
   "outputs": [],
   "source": [
    "class State:\n",
    "    \"\"\" Each state represent cameras placed on the field\n",
    "    Attributes:\n",
    "        add_camera (void): add a new camera to the state with the score, level, camera lists updated\n",
    "        invalid (boolean): check whether the new_camera has conflict with the current placed cameras in this state\n",
    "        duplicate (boolean): check whether the updated camera lists will be the same solution in explored set\n",
    "        goal_estimate (int): f(n) to estimate the \"potential max score\" for a status, used in A* Search\n",
    "    \"\"\"\n",
    "    def __init__(self): \n",
    "        self.level = 0\n",
    "        self.camera = set()\n",
    "        self.score = 0\n",
    "    \n",
    "    def add_camera(self, parent_state, new_camera, ANIMALS):\n",
    "        self.level = parent_state.level + 1\n",
    "        self.score = parent_state.score\n",
    "        self.camera = copy.copy(parent_state.camera)\n",
    "        self.camera.add(new_camera)\n",
    "        if new_camera in ANIMALS:\n",
    "            self.score += 1                         \n",
    "\n",
    "    def invalid(self, new_camera):\n",
    "        for i in self.camera:\n",
    "            if i[0] == new_camera[0] or i[1] == new_camera[1] or abs(i[0]-new_camera[0]) == abs(i[1]-new_camera[1]):\n",
    "                return True\n",
    "        return False\n",
    "    \n",
    "    def duplicate(self, new_camera, explored_set):\n",
    "        if self.camera.union({new_camera}) in explored_set:\n",
    "            return True\n",
    "        \n",
    "    def goal_estimate(self, C, A):\n",
    "        return -(self.score + min(C-self.level, A-self.score))"
   ]
  },
  {
   "cell_type": "markdown",
   "metadata": {},
   "source": [
    "## Define DFS"
   ]
  },
  {
   "cell_type": "code",
   "execution_count": 3,
   "metadata": {},
   "outputs": [],
   "source": [
    "class DFS:\n",
    "    \"\"\" DFS Search method - depth first search all possible states and select the solution with max score\n",
    "    Attributes:\n",
    "        DFS (int): run DFS and return the max score\n",
    "    \"\"\"\n",
    "    def __init__(self):\n",
    "        self.max_score = 0\n",
    "        self.explored_set = set()\n",
    " \n",
    "    def DFS_vist(self, N, C, ANIMALS, parent_state):\n",
    "        for i in range(N):\n",
    "            for j in range(N):\n",
    "                if parent_state.invalid((i,j)) or parent_state.duplicate((i,j), self.explored_set):\n",
    "                    continue\n",
    "                new_state = State()\n",
    "                new_state.add_camera(parent_state, (i,j), ANIMALS)\n",
    "                self.explored_set.add(frozenset(new_state.camera))\n",
    "\n",
    "                if new_state.level >= C:\n",
    "                    if new_state.score > self.max_score:\n",
    "                        self.max_score = new_state.score\n",
    "                        print new_state.camera\n",
    "                    return\n",
    "\n",
    "                self.DFS_vist(N, C, ANIMALS, new_state)\n",
    "        return self.max_score"
   ]
  },
  {
   "cell_type": "markdown",
   "metadata": {},
   "source": [
    "## Define A* Search"
   ]
  },
  {
   "cell_type": "code",
   "execution_count": 4,
   "metadata": {},
   "outputs": [],
   "source": [
    "def AStar(N, C, A, ANIMALS, initial_state):\n",
    "    \"\"\" A* Search method - explore next sates according to the \"potntial\", select the first best solution with\n",
    "    Args:\n",
    "        N - size of the field\n",
    "        C - number of cameras\n",
    "        A - number of animals\n",
    "        ANIMALS - positions of animals\n",
    "        initial_state - initial state\n",
    "    Returs:\n",
    "        max_score - the score of the first best solution\n",
    "    \"\"\"\n",
    "    h = []\n",
    "    heappush(h, (initial_state.goal_estimate(C, A), initial_state))\n",
    "    explored_set = set()\n",
    "    \n",
    "    while True:\n",
    "        if len(h)==0: return \"Fail\"\n",
    "        parent_state = heappop(h)[1]\n",
    "        if parent_state.level >= C:\n",
    "            print parent_state.camera\n",
    "            return parent_state.score\n",
    "        \n",
    "        for i in range(N):\n",
    "            for j in range(N):\n",
    "                if parent_state.invalid((i,j)) or parent_state.duplicate((i,j), explored_set):\n",
    "                    continue\n",
    "                new_state = State()\n",
    "                new_state.add_camera(parent_state, (i,j), ANIMALS)\n",
    "                heappush(h, (new_state.goal_estimate(C, A), new_state))\n",
    "                explored_set.add(frozenset(new_state.camera))\n",
    "                "
   ]
  },
  {
   "cell_type": "markdown",
   "metadata": {},
   "source": [
    "## Define I/O"
   ]
  },
  {
   "cell_type": "code",
   "execution_count": 5,
   "metadata": {},
   "outputs": [],
   "source": [
    "def Read_input(filename):\n",
    "    lines = open(filename + \".txt\").read().splitlines()\n",
    "    N = int(lines[0])\n",
    "    C = int(lines[1])\n",
    "    A = int(lines[2])\n",
    "    SEARCH = lines[3]\n",
    "    ANIMALS = set()\n",
    "    for i in lines[4:]:\n",
    "        ANIMALS.add(eval(i))\n",
    "    return N, C, A, SEARCH, ANIMALS\n",
    "\n",
    "\n",
    "def Write_output(filename, max_score):\n",
    "    output_file = open(filename + \".txt\",\"w\")\n",
    "    output_file.write(str(max_score))\n",
    "    output_file.close()"
   ]
  },
  {
   "cell_type": "markdown",
   "metadata": {},
   "source": [
    "## Sample Running DFS"
   ]
  },
  {
   "cell_type": "code",
   "execution_count": 6,
   "metadata": {},
   "outputs": [
    {
     "name": "stdout",
     "output_type": "stream",
     "text": [
      "set([(1, 3), (2, 1), (0, 0)])\n",
      "set([(1, 3), (3, 2), (0, 0)])\n",
      "set([(0, 1), (3, 2), (1, 3)])\n",
      "MAX SCORE:  3\n",
      "Running time:  0.0139999389648 (s)\n"
     ]
    }
   ],
   "source": [
    "start_time = time()\n",
    "\n",
    "N, C, A, SEARCH, ANIMALS = Read_input(\"input1\")\n",
    "\n",
    "initial_state = State()\n",
    "max_score = 0\n",
    "\n",
    "if SEARCH == \"dfs\":\n",
    "    max_score = DFS().DFS_vist(N, C, ANIMALS, initial_state)\n",
    "elif SEARCH == \"astar\":\n",
    "    max_score = AStar(N, C, A, ANIMALS, initial_state)\n",
    "\n",
    "Write_output(\"output1\", max_score)  \n",
    "\n",
    "print \"MAX SCORE: \",max_score\n",
    "print 'Running time: ', time() - start_time, '(s)'"
   ]
  },
  {
   "cell_type": "markdown",
   "metadata": {},
   "source": [
    "## Sample Running A* Search"
   ]
  },
  {
   "cell_type": "code",
   "execution_count": 7,
   "metadata": {},
   "outputs": [
    {
     "name": "stdout",
     "output_type": "stream",
     "text": [
      "set([(0, 1), (5, 4), (1, 3), (3, 0), (4, 2), (2, 5)])\n",
      "MAX SCORE:  2\n",
      "Running time:  0.180999994278 (s)\n"
     ]
    }
   ],
   "source": [
    "start_time = time()\n",
    "\n",
    "N, C, A, SEARCH, ANIMALS = Read_input(\"input2\")\n",
    "\n",
    "initial_state = State()\n",
    "max_score = 0\n",
    "\n",
    "if SEARCH == \"dfs\":\n",
    "    max_score = DFS().DFS_vist(N, C, ANIMALS, initial_state)\n",
    "elif SEARCH == \"astar\":\n",
    "    max_score = AStar(N, C, A, ANIMALS, initial_state)\n",
    "\n",
    "Write_output(\"output2\", max_score)   \n",
    "\n",
    "print \"MAX SCORE: \",max_score\n",
    "print 'Running time: ', time() - start_time, '(s)'"
   ]
  },
  {
   "cell_type": "code",
   "execution_count": 8,
   "metadata": {},
   "outputs": [
    {
     "data": {
      "text/plain": [
       "{(0, 0), (0, 1), (0, 3), (1, 0), (1, 1), (3, 0), (3, 4), (4, 4)}"
      ]
     },
     "execution_count": 8,
     "metadata": {},
     "output_type": "execute_result"
    }
   ],
   "source": [
    "ANIMALS"
   ]
  }
 ],
 "metadata": {
  "kernelspec": {
   "display_name": "Python 2",
   "language": "python",
   "name": "python2"
  },
  "language_info": {
   "codemirror_mode": {
    "name": "ipython",
    "version": 2
   },
   "file_extension": ".py",
   "mimetype": "text/x-python",
   "name": "python",
   "nbconvert_exporter": "python",
   "pygments_lexer": "ipython2",
   "version": "2.7.15"
  }
 },
 "nbformat": 4,
 "nbformat_minor": 2
}
